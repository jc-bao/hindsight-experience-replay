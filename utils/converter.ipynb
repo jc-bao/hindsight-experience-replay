{
 "cells": [
  {
   "cell_type": "code",
   "execution_count": 5,
   "metadata": {},
   "outputs": [],
   "source": [
    "import torch\n",
    "import numpy as np\n",
    "\n",
    "o_dict, g_dict, actor_model, critic_model = torch.load('/Users/reedpan/Downloads/curr1.00_best_model.pt')"
   ]
  },
  {
   "cell_type": "markdown",
   "metadata": {},
   "source": [
    "1 Object Mode"
   ]
  },
  {
   "cell_type": "code",
   "execution_count": 9,
   "metadata": {},
   "outputs": [],
   "source": [
    "goal_dict = g_dict\n",
    "robot_dict = {\n",
    "    'size': 14, \n",
    "    'eps': 0.01,\n",
    "    'default_clip_range': 5,\n",
    "    'local_sum': np.zeros(14), \n",
    "    'local_sumsq': np.zeros(14), \n",
    "    'local_count': np.array([0]), \n",
    "    'total_sum': o_dict['total_sum'][:14], \n",
    "    'total_sumsq': o_dict['total_sumsq'][:14], \n",
    "    'total_count': o_dict['total_count'], \n",
    "    'mean': o_dict['mean'][:14], \n",
    "    'std': o_dict['std'][:14], \n",
    "}\n",
    "assert o_dict['total_sum'].shape[0] == 12+14\n",
    "object_dict = {\n",
    "    'size': 12, \n",
    "    'eps': 0.01,\n",
    "    'default_clip_range': 5,\n",
    "    'local_sum': np.zeros(12), \n",
    "    'local_sumsq': np.zeros(12), \n",
    "    'local_count': np.array([0]), \n",
    "    'total_sum': o_dict['total_sum'][14:], \n",
    "    'total_sumsq': o_dict['total_sumsq'][14:], \n",
    "    'total_count': o_dict['total_count'], \n",
    "    'mean': o_dict['mean'][14:], \n",
    "    'std': o_dict['std'][14:], \n",
    "}"
   ]
  },
  {
   "cell_type": "markdown",
   "metadata": {},
   "source": [
    "2 Objects Mode"
   ]
  },
  {
   "cell_type": "code",
   "execution_count": 8,
   "metadata": {},
   "outputs": [
    {
     "ename": "ValueError",
     "evalue": "cannot reshape array of size 12 into shape (2,12)",
     "output_type": "error",
     "traceback": [
      "\u001b[0;31m---------------------------------------------------------------------------\u001b[0m",
      "\u001b[0;31mValueError\u001b[0m                                Traceback (most recent call last)",
      "\u001b[0;32m/var/folders/sn/lv1hjjwn5f7_rxnyvmrwf0y40000gn/T/ipykernel_73337/152914046.py\u001b[0m in \u001b[0;36m<module>\u001b[0;34m\u001b[0m\n\u001b[1;32m     33\u001b[0m     \u001b[0;34m'local_sumsq'\u001b[0m\u001b[0;34m:\u001b[0m \u001b[0mnp\u001b[0m\u001b[0;34m.\u001b[0m\u001b[0mzeros\u001b[0m\u001b[0;34m(\u001b[0m\u001b[0;36m12\u001b[0m\u001b[0;34m)\u001b[0m\u001b[0;34m,\u001b[0m\u001b[0;34m\u001b[0m\u001b[0;34m\u001b[0m\u001b[0m\n\u001b[1;32m     34\u001b[0m     \u001b[0;34m'local_count'\u001b[0m\u001b[0;34m:\u001b[0m \u001b[0mnp\u001b[0m\u001b[0;34m.\u001b[0m\u001b[0marray\u001b[0m\u001b[0;34m(\u001b[0m\u001b[0;34m[\u001b[0m\u001b[0;36m0\u001b[0m\u001b[0;34m]\u001b[0m\u001b[0;34m)\u001b[0m\u001b[0;34m,\u001b[0m\u001b[0;34m\u001b[0m\u001b[0;34m\u001b[0m\u001b[0m\n\u001b[0;32m---> 35\u001b[0;31m     \u001b[0;34m'total_sum'\u001b[0m\u001b[0;34m:\u001b[0m \u001b[0mnp\u001b[0m\u001b[0;34m.\u001b[0m\u001b[0msum\u001b[0m\u001b[0;34m(\u001b[0m\u001b[0;34m(\u001b[0m\u001b[0mo_dict\u001b[0m\u001b[0;34m[\u001b[0m\u001b[0;34m'total_sum'\u001b[0m\u001b[0;34m]\u001b[0m\u001b[0;34m[\u001b[0m\u001b[0;36m14\u001b[0m\u001b[0;34m:\u001b[0m\u001b[0;34m]\u001b[0m\u001b[0;34m.\u001b[0m\u001b[0mreshape\u001b[0m\u001b[0;34m(\u001b[0m\u001b[0;36m2\u001b[0m\u001b[0;34m,\u001b[0m \u001b[0;36m12\u001b[0m\u001b[0;34m)\u001b[0m\u001b[0;34m)\u001b[0m\u001b[0;34m,\u001b[0m \u001b[0maxis\u001b[0m\u001b[0;34m=\u001b[0m\u001b[0;36m0\u001b[0m\u001b[0;34m)\u001b[0m\u001b[0;34m,\u001b[0m\u001b[0;34m\u001b[0m\u001b[0;34m\u001b[0m\u001b[0m\n\u001b[0m\u001b[1;32m     36\u001b[0m     \u001b[0;34m'total_sumsq'\u001b[0m\u001b[0;34m:\u001b[0m \u001b[0mnp\u001b[0m\u001b[0;34m.\u001b[0m\u001b[0msum\u001b[0m\u001b[0;34m(\u001b[0m\u001b[0mo_dict\u001b[0m\u001b[0;34m[\u001b[0m\u001b[0;34m'total_sumsq'\u001b[0m\u001b[0;34m]\u001b[0m\u001b[0;34m[\u001b[0m\u001b[0;36m14\u001b[0m\u001b[0;34m:\u001b[0m\u001b[0;34m]\u001b[0m\u001b[0;34m.\u001b[0m\u001b[0mreshape\u001b[0m\u001b[0;34m(\u001b[0m\u001b[0;36m2\u001b[0m\u001b[0;34m,\u001b[0m \u001b[0;36m12\u001b[0m\u001b[0;34m)\u001b[0m\u001b[0;34m)\u001b[0m\u001b[0;34m,\u001b[0m\u001b[0;34m\u001b[0m\u001b[0;34m\u001b[0m\u001b[0m\n\u001b[1;32m     37\u001b[0m     \u001b[0;34m'total_count'\u001b[0m\u001b[0;34m:\u001b[0m \u001b[0mo_dict\u001b[0m\u001b[0;34m[\u001b[0m\u001b[0;34m'total_count'\u001b[0m\u001b[0;34m]\u001b[0m\u001b[0;34m*\u001b[0m\u001b[0;36m2\u001b[0m\u001b[0;34m,\u001b[0m\u001b[0;34m\u001b[0m\u001b[0;34m\u001b[0m\u001b[0m\n",
      "\u001b[0;31mValueError\u001b[0m: cannot reshape array of size 12 into shape (2,12)"
     ]
    }
   ],
   "source": [
    "goal_dict = {\n",
    "    'size': 3, \n",
    "    'eps': 0.01, \n",
    "    'default_clip_range': 5,\n",
    "    'local_sum': np.mean(g_dict['local_sum'].reshape(2, 3), axis=0), \n",
    "    'local_sumsq': np.mean(g_dict['local_sumsq'].reshape(2, 3), axis=0), \n",
    "    'local_count': np.array([0]), \n",
    "    'total_sum': np.sum(g_dict['total_sum'].reshape(2, 3), axis=0), \n",
    "    'total_sumsq': np.sum(g_dict['total_sumsq'].reshape(2, 3), axis=0), \n",
    "    'total_count': g_dict['total_count']*2, \n",
    "    'mean': np.mean(g_dict['mean'].reshape(2, 3), axis=0), \n",
    "    'std': np.mean(g_dict['std'].reshape(2, 3), axis=0), \n",
    "}\n",
    "robot_dict = {\n",
    "    'size': 14, \n",
    "    'eps': 0.01,\n",
    "    'default_clip_range': 5,\n",
    "    'local_sum': np.zeros(14), \n",
    "    'local_sumsq': np.zeros(14), \n",
    "    'local_count': np.array([0]), \n",
    "    'total_sum': o_dict['total_sum'][:14], \n",
    "    'total_sumsq': o_dict['total_sumsq'][:14], \n",
    "    'total_count': o_dict['total_count'], \n",
    "    'mean': o_dict['mean'][:14], \n",
    "    'std': o_dict['std'][:14], \n",
    "}\n",
    "object_dict = {\n",
    "    'size': 12, \n",
    "    'eps': 0.01,\n",
    "    'default_clip_range': 5,\n",
    "    'local_sum': np.zeros(12), \n",
    "    'local_sumsq': np.zeros(12), \n",
    "    'local_count': np.array([0]), \n",
    "    'total_sum': np.sum((o_dict['total_sum'][14:].reshape(2, 12)), axis=0), \n",
    "    'total_sumsq': np.sum(o_dict['total_sumsq'][14:].reshape(2, 12)), \n",
    "    'total_count': o_dict['total_count']*2, \n",
    "    'mean': np.mean(o_dict['mean'][14:].reshape(2, 12), axis=0), \n",
    "    'std': np.mean(o_dict['std'][14:].reshape(2, 12), axis=0), \n",
    "}"
   ]
  },
  {
   "cell_type": "code",
   "execution_count": 10,
   "metadata": {},
   "outputs": [],
   "source": [
    "torch.save([robot_dict, object_dict, goal_dict, actor_model,critic_model], '/Users/reedpan/Downloads/curr1.00_best_model_shared_norm.pt')"
   ]
  }
 ],
 "metadata": {
  "interpreter": {
   "hash": "e5eb6902d1900d2decb3bdf7ac16a0c61011659b39aa72c90b1b2afe1472d5be"
  },
  "kernelspec": {
   "display_name": "Python 3.9.6 ('rl')",
   "language": "python",
   "name": "python3"
  },
  "language_info": {
   "codemirror_mode": {
    "name": "ipython",
    "version": 3
   },
   "file_extension": ".py",
   "mimetype": "text/x-python",
   "name": "python",
   "nbconvert_exporter": "python",
   "pygments_lexer": "ipython3",
   "version": "3.9.6"
  },
  "orig_nbformat": 4
 },
 "nbformat": 4,
 "nbformat_minor": 2
}
